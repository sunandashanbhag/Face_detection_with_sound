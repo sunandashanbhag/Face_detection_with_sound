{
 "cells": [
  {
   "cell_type": "code",
   "execution_count": 70,
   "metadata": {},
   "outputs": [],
   "source": [
    "import cv2\n",
    "import numpy as np\n",
    "import pandas as pd\n",
    "# print version number\n",
    "import os"
   ]
  },
  {
   "cell_type": "code",
   "execution_count": 71,
   "metadata": {},
   "outputs": [],
   "source": [
    "face_cascade = cv2.CascadeClassifier('haarcascade_frontalface_default.xml') \n",
    "eye_cascade = cv2.CascadeClassifier('haarcascade_eye.xml')  \n"
   ]
  },
  {
   "cell_type": "markdown",
   "metadata": {},
   "source": [
    "# Import faces to learn from "
   ]
  },
  {
   "cell_type": "code",
   "execution_count": 72,
   "metadata": {},
   "outputs": [],
   "source": [
    "import face_recognition\n",
    "image = face_recognition.load_image_file(\"../data/raw/SS/IMG_0684.jpeg\")\n",
    "face_ss = face_recognition.face_encodings(image)[0]\n",
    "image = face_recognition.load_image_file(\"../data/raw/DG/IMG_1135.jpeg\")\n",
    "face_dg = face_recognition.face_encodings(image)[0]"
   ]
  },
  {
   "cell_type": "markdown",
   "metadata": {},
   "source": [
    "# Create audio files"
   ]
  },
  {
   "cell_type": "code",
   "execution_count": 73,
   "metadata": {},
   "outputs": [],
   "source": [
    "from gtts import gTTS \n",
    "text_ss = 'Welcome Sunanda!'\n",
    "text_dg = 'Welcome Danilo!'\n",
    "text_stranger = \"Welcome Stranger!\"\n",
    "language = 'en'\n",
    "sound_ss = gTTS(text=text_ss, lang=language, slow=False)\n",
    "sound_ss.save(\"../data/raw/SS/ss.mp3\") \n",
    "sound_dg = gTTS(text=text_dg, lang=language, slow=False)\n",
    "sound_dg.save(\"../data/raw/DG/dg.mp3\") \n",
    "sound_st = gTTS(text=text_stranger, lang=language, slow=False)\n",
    "sound_st.save(\"../data/raw/stranger.mp3\") \n"
   ]
  },
  {
   "cell_type": "code",
   "execution_count": 74,
   "metadata": {},
   "outputs": [],
   "source": [
    "known_face_encodings = [\n",
    "    face_ss, face_dg\n",
    "]\n",
    "known_face_names = [\n",
    "    \"Sunanda\",\"Danilo\"\n",
    "]\n",
    "known_faces_audio = [\n",
    "    \"../data/raw/SS/ss.mp3\",\"../data/raw/DG/dg.mp3\"\n",
    "]"
   ]
  },
  {
   "cell_type": "code",
   "execution_count": 75,
   "metadata": {},
   "outputs": [],
   "source": [
    "face_locations = []\n",
    "face_encodings = []\n",
    "face_names = []\n",
    "face_sounds = []\n",
    "process_this_frame = True"
   ]
  },
  {
   "cell_type": "code",
   "execution_count": null,
   "metadata": {},
   "outputs": [],
   "source": [
    "cap = cv2.VideoCapture(0) \n",
    "missing_cnt ={'Sunanda':-1,\n",
    "             'Danilo':-1,\n",
    "             'Stranger':-1}\n",
    "while True:\n",
    "    ret, frame = cap.read()\n",
    "\n",
    "    # Resize frame of video to 1/4 size for faster face recognition processing\n",
    "    small_frame = cv2.resize(frame, (0, 0), fx=0.25, fy=0.25)\n",
    "\n",
    "    # Convert the image from BGR color (which OpenCV uses) to RGB color (which face_recognition uses)\n",
    "    rgb_small_frame = small_frame[:, :, ::-1]\n",
    "    \n",
    "    # Find all the faces and face encodings in the current frame of video\n",
    "    face_locations = face_recognition.face_locations(rgb_small_frame)\n",
    "    face_encodings = face_recognition.face_encodings(rgb_small_frame, face_locations)\n",
    "    face_names = []\n",
    "\n",
    "    for face_encoding in face_encodings:\n",
    "        name = \"Stranger\"\n",
    "        sound = \"../data/raw/stranger.mp3\"\n",
    "        \n",
    "        # Check if we know this face\n",
    "        \n",
    "        matches = face_recognition.compare_faces(known_face_encodings, face_encoding)\n",
    "        \n",
    "        face_distances = face_recognition.face_distance(known_face_encodings, face_encoding)\n",
    "        # choose face with least diff\n",
    "        best_match_index = np.argmin(face_distances)\n",
    "        \n",
    "        if matches[best_match_index]:\n",
    "            name = known_face_names[best_match_index]\n",
    "            sound = known_faces_audio[best_match_index]\n",
    "\n",
    "        if missing_cnt[name]==-1 or missing_cnt[name]>20:\n",
    "            #if we are seeing this person for the first time or after 20 seconds of absence\n",
    "            #Welcome them :)\n",
    "            \n",
    "            playsound(sound)\n",
    "            if missing_cnt[name]>20:\n",
    "                missing_cnt[name]=1\n",
    "            else:\n",
    "                missing_cnt[name]+=1\n",
    "        \n",
    "        face_names.append(name)\n",
    "        face_sounds.append(sound)\n",
    "\n",
    "    #update time of absence if a person came and left\n",
    "    for n in [x for x in missing_cnt.keys() if x not in face_names and missing_cnt[x]!=-1]:\n",
    "        missing_cnt.update({n: missing_cnt[n]+1})\n",
    "\n",
    "    #to avoid unnecessary overflow, after 100 frames, reset to -1\n",
    "    for k,v in missing_cnt.items():\n",
    "        if v>100:\n",
    "            missing_cnt[k]=-1\n",
    "\n",
    "\n",
    "    # Display the box\n",
    "    for (top, right, bottom, left), name, sound, sound_flag in zip(face_locations, face_names, face_sounds, sound_flags):\n",
    "        # Scale back up face locations since the frame we detected in was scaled to 1/4 size\n",
    "        top *= 4\n",
    "        right *= 4\n",
    "        bottom *= 4\n",
    "        left *= 4\n",
    "\n",
    "        cv2.rectangle(frame, (left, top), (right, bottom), (255, 255, 255), 2)\n",
    "\n",
    "        # Draw a label with a name below the face\n",
    "        cv2.rectangle(frame, (left, bottom - 35), (right, bottom), (255, 255, 255), cv2.FILLED)\n",
    "        font = cv2.FONT_HERSHEY_SCRIPT_COMPLEX\n",
    "        cv2.putText(frame, name, (left + 6, bottom - 6), font, 1.0, (0, 0, 0), 1)\n",
    "        \n",
    "        \n",
    "    # Display the resulting image\n",
    "    cv2.imshow('Hello faces!', frame)\n",
    "\n",
    "    # quit by pressing q\n",
    "    if cv2.waitKey(1) & 0xFF == ord('q'):\n",
    "        break"
   ]
  },
  {
   "cell_type": "code",
   "execution_count": null,
   "metadata": {},
   "outputs": [],
   "source": [
    "cap.release()\n",
    "cv2.destroyAllWindows()"
   ]
  },
  {
   "cell_type": "code",
   "execution_count": null,
   "metadata": {},
   "outputs": [],
   "source": []
  }
 ],
 "metadata": {
  "kernelspec": {
   "display_name": "Python 3",
   "language": "python",
   "name": "python3"
  },
  "language_info": {
   "codemirror_mode": {
    "name": "ipython",
    "version": 3
   },
   "file_extension": ".py",
   "mimetype": "text/x-python",
   "name": "python",
   "nbconvert_exporter": "python",
   "pygments_lexer": "ipython3",
   "version": "3.6.8"
  }
 },
 "nbformat": 4,
 "nbformat_minor": 2
}
